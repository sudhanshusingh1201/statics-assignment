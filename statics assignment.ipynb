{
 "cells": [
  {
   "cell_type": "markdown",
   "id": "b1a0a98a-98f3-4bb5-b90a-cbec649b84e6",
   "metadata": {},
   "source": [
    "**Q1. What are the three measures of central tendency?**"
   ]
  },
  {
   "cell_type": "markdown",
   "id": "a1d60adf-8134-4fc7-a9bd-0070d2044ec9",
   "metadata": {},
   "source": [
    "ans> Mean, Median, Mode"
   ]
  },
  {
   "cell_type": "markdown",
   "id": "c01df5d1-b1bc-4e1a-8e8f-ccdaaaba3cdf",
   "metadata": {},
   "source": [
    "**Q2. What is the difference between the mean, median, and mode? How are they used to measure the\n",
    "central tendency of a dataset?**"
   ]
  },
  {
   "cell_type": "markdown",
   "id": "cbf9eb27-e72d-466d-86d5-11e7683daf89",
   "metadata": {},
   "source": [
    "ans>Mean: Average of values; affected by outliers.\n",
    "\n",
    "Median: Middle value; not affected by outliers.\n",
    "\n",
    "Mode: Most frequent value; used for categorical data.\n",
    "\n"
   ]
  },
  {
   "cell_type": "markdown",
   "id": "b22fff61-6ce9-49a5-a49d-d422034137b1",
   "metadata": {},
   "source": [
    "**Q3. Measure the three measures of central tendency for the given height data:[178,177,176,177,178.2,178,175,179,180,175,178.9,176.2,177,172.5,178,176.5]**"
   ]
  },
  {
   "cell_type": "markdown",
   "id": "72412171-9b1e-4c20-86fb-195b8082a023",
   "metadata": {},
   "source": [
    "Mean: ≈ 176.9\n",
    "\n",
    "Median: 177\n",
    "\n",
    "Mode: 177, 178 (bimodal)"
   ]
  },
  {
   "cell_type": "markdown",
   "id": "b275fd6c-9409-4b47-9244-0621cb807f2e",
   "metadata": {},
   "source": [
    "**Q4. Find the standard deviation for the given data:[178,177,176,177,178.2,178,175,179,180,175,178.9,176.2,177,172.5,178,176.5]**"
   ]
  },
  {
   "cell_type": "markdown",
   "id": "d9b29da9-03a4-4f0a-a829-ba886d012579",
   "metadata": {},
   "source": [
    " Standard deviation ≈ 2.03"
   ]
  },
  {
   "cell_type": "markdown",
   "id": "ff3983ce-0c78-47ec-85ef-6e329920b03e",
   "metadata": {},
   "source": [
    "**Q5. How are measures of dispersion such as range, variance, and standard deviation used to describe\n",
    "the spread of a dataset? Provide an example.**"
   ]
  },
  {
   "cell_type": "markdown",
   "id": "a078c8e2-92a9-47c5-abd5-c14cc885f673",
   "metadata": {},
   "source": [
    "They describe spread or variability.\n",
    "Example: Data A: [10, 10, 10], Data B: [5, 10, 15]\n",
    "\n",
    "Same mean = 10\n",
    "\n",
    "Data B has higher variance and standard deviation due to spread.\n",
    "\n"
   ]
  },
  {
   "cell_type": "markdown",
   "id": "d2c1d50c-7544-4c33-b941-558a5b2ecf9f",
   "metadata": {},
   "source": [
    "**Q6. What is a Venn diagram?**"
   ]
  },
  {
   "cell_type": "markdown",
   "id": "ef1485f4-4adc-4616-984d-ff2d49e0f514",
   "metadata": {},
   "source": [
    " A diagram that shows relationships between sets using overlapping circles."
   ]
  },
  {
   "cell_type": "markdown",
   "id": "393b3a86-4ca8-4782-959d-6fbc34d7c8a9",
   "metadata": {},
   "source": [
    "**Q7. For the two given sets A = (2,3,4,5,6,7) & B = (0,2,6,8,10). Find:\n",
    "(i) A B\n",
    "(ii) A ⋃ B**"
   ]
  },
  {
   "cell_type": "markdown",
   "id": "c0904a23-afae-4b67-942d-55d8d738c1ec",
   "metadata": {},
   "source": [
    "(i) A ∩ B = {2, 6}\n",
    "(ii) A ∪ B = {0,2,3,4,5,6,7,8,10}\n",
    "\n"
   ]
  },
  {
   "cell_type": "markdown",
   "id": "aec8079a-7622-406c-b746-4339312dcbb6",
   "metadata": {},
   "source": [
    "**Q8. What do you understand about skewness in data?**"
   ]
  },
  {
   "cell_type": "markdown",
   "id": "8d3fa825-98a9-4948-b3d3-960784fd5a2a",
   "metadata": {},
   "source": [
    "Skewness measures the asymmetry of a data distribution."
   ]
  },
  {
   "cell_type": "markdown",
   "id": "aeb3293a-c66d-4e96-8221-0a7078509b2c",
   "metadata": {},
   "source": [
    "**Q9. If a data is right skewed then what will be the position of median with respect to mean?**"
   ]
  },
  {
   "cell_type": "markdown",
   "id": "c8f9ffd7-370f-4174-b078-9ed449907c4a",
   "metadata": {},
   "source": [
    "Mean > Median"
   ]
  },
  {
   "cell_type": "markdown",
   "id": "dbbd5063-2da0-4064-b6a0-116d5adb7f9a",
   "metadata": {},
   "source": [
    "**Q10. Explain the difference between covariance and correlation. How are these measures used in\n",
    "statistical analysis?**"
   ]
  },
  {
   "cell_type": "markdown",
   "id": "cc54c5de-c311-46bf-ba23-0ca30c875320",
   "metadata": {},
   "source": [
    "Covariance: Measures direction of relation (units matter)\n",
    "\n",
    "Correlation: Measures strength & direction (unitless, -1 to 1)\n",
    " Used to assess how two variables move together."
   ]
  },
  {
   "cell_type": "markdown",
   "id": "f87cd1ca-0275-42f8-afb5-347fd3b9f651",
   "metadata": {},
   "source": [
    "**Q11. What is the formula for calculating the sample mean? Provide an example calculation for a\n",
    "dataset.**"
   ]
  },
  {
   "cell_type": "markdown",
   "id": "0999a426-21c3-4b36-b051-f8eabcd330e0",
   "metadata": {},
   "source": [
    "x\n",
    "ˉ\n",
    " = \n",
    "n\n",
    "∑x \n",
    "i\n",
    "​\n",
    " \n",
    "​\n"
   ]
  },
  {
   "cell_type": "markdown",
   "id": "a87b6c0c-64af-48b7-a909-853035770be6",
   "metadata": {},
   "source": [
    "**Q12. For a normal distribution data what is the relationship between its measure of central tendency?**"
   ]
  },
  {
   "cell_type": "markdown",
   "id": "c8a47cee-ea8e-4f00-81e8-932dc9320e9c",
   "metadata": {},
   "source": [
    "Mean = Median = Mode"
   ]
  },
  {
   "cell_type": "markdown",
   "id": "3646f219-ce30-412f-a0d9-42360ec874ef",
   "metadata": {},
   "source": [
    "**Q13. How is covariance different from correlation?**"
   ]
  },
  {
   "cell_type": "markdown",
   "id": "2d909f36-e848-40d7-970b-862636cb0740",
   "metadata": {},
   "source": [
    " Covariance shows direction, correlation shows direction and strength, and is standardized."
   ]
  },
  {
   "cell_type": "markdown",
   "id": "d0534ff1-3071-46d5-89de-c6aeb8c7fefc",
   "metadata": {},
   "source": [
    "**Q14. How do outliers affect measures of central tendency and dispersion? Provide an example.**"
   ]
  }
 ],
 "metadata": {
  "kernelspec": {
   "display_name": "Python 3 (ipykernel)",
   "language": "python",
   "name": "python3"
  },
  "language_info": {
   "codemirror_mode": {
    "name": "ipython",
    "version": 3
   },
   "file_extension": ".py",
   "mimetype": "text/x-python",
   "name": "python",
   "nbconvert_exporter": "python",
   "pygments_lexer": "ipython3",
   "version": "3.13.1"
  }
 },
 "nbformat": 4,
 "nbformat_minor": 5
}
